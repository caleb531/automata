{
 "cells": [
  {
   "cell_type": "markdown",
   "metadata": {},
   "source": [
    "## FA (Finite Automata) Animation\n",
    "To use the animation function, use the `animate_reading_input` function in DFA and NFA."
   ]
  },
  {
   "cell_type": "code",
   "execution_count": null,
   "metadata": {},
   "outputs": [],
   "source": [
    "from automata.fa.dfa import DFA\n",
    "from automata.fa.nfa import NFA"
   ]
  },
  {
   "cell_type": "markdown",
   "metadata": {},
   "source": [
    "### DFA Animation"
   ]
  },
  {
   "cell_type": "code",
   "execution_count": null,
   "metadata": {},
   "outputs": [],
   "source": [
    "dfa = DFA(\n",
    "    states={\"q0\", \"q1\", \"q2\", \"q3\"},\n",
    "    input_symbols={\"0\", \"1\"},\n",
    "    transitions={\n",
    "        \"q0\": {\"0\": \"q2\", \"1\": \"q1\"},\n",
    "        \"q1\": {},\n",
    "        \"q2\": {\"0\": \"q3\", \"1\": \"q1\"},\n",
    "        \"q3\": {\"0\": \"q2\", \"1\": \"q1\"},\n",
    "    },\n",
    "    initial_state=\"q0\",\n",
    "    final_states={\"q3\"},\n",
    "    allow_partial=True,\n",
    ")\n",
    "dfa"
   ]
  },
  {
   "cell_type": "markdown",
   "metadata": {},
   "source": [
    "To animate the process of a DFA identifying a string, use `DFAAnimation.render` method. The animation will be in the `media/videos/1080p60` folder. And if you set the `preview=true`, the video will show as soon as it's generated."
   ]
  },
  {
   "cell_type": "code",
   "execution_count": null,
   "metadata": {},
   "outputs": [],
   "source": [
    "dfa.animate_reading_input(\"000001\", preview=True)"
   ]
  },
  {
   "cell_type": "markdown",
   "metadata": {},
   "source": [
    "If a DFA runs into the dead state, the DFA will stop and reject the string immediately. (Remind to close the video opened earlier or you may get a `Permission Denied` Error)"
   ]
  },
  {
   "cell_type": "code",
   "execution_count": null,
   "metadata": {},
   "outputs": [],
   "source": [
    "dfa.animate_reading_input(\"1111111111111\", preview=True)"
   ]
  },
  {
   "cell_type": "markdown",
   "metadata": {},
   "source": [
    "### NFA Animation"
   ]
  },
  {
   "cell_type": "code",
   "execution_count": null,
   "metadata": {},
   "outputs": [],
   "source": [
    "nfa = NFA(\n",
    "    states={\"q0\", \"q1\", \"q2\", \"q3\"},\n",
    "    input_symbols={\"0\", \"1\"},\n",
    "    transitions={\n",
    "        \"q0\": {\"\": {\"q1\"}},\n",
    "        \"q1\": {\"0\": {\"q0\", \"q3\"}, \"1\": {\"q2\", \"q3\"}},\n",
    "        \"q2\": {\"0\": {\"q3\"}},\n",
    "        \"q3\": {\"0\": {\"q0\"}, \"1\": {\"q0\"}},\n",
    "    },\n",
    "    initial_state=\"q0\",\n",
    "    final_states={\"q0\", \"q2\"},\n",
    ")\n",
    "nfa"
   ]
  },
  {
   "cell_type": "markdown",
   "metadata": {},
   "source": [
    "The way to animate a NFA is similar to DFA. In the process of NFA identifying a string, the moving of lambda transition after reading a symbol is sill seen as the process of reading this symbol, so the prior symbol is still highlighted."
   ]
  },
  {
   "cell_type": "code",
   "execution_count": null,
   "metadata": {},
   "outputs": [],
   "source": [
    "nfa.animate_reading_input(\"111011\", preview=True)"
   ]
  },
  {
   "cell_type": "code",
   "execution_count": null,
   "metadata": {},
   "outputs": [],
   "source": [
    "regex_nfa = NFA.from_regex(r\"0(10)*1?|1(01)*0?\")\n",
    "regex_nfa"
   ]
  },
  {
   "cell_type": "markdown",
   "metadata": {},
   "source": [
    "A complicate NFA like this is also visualizable! (Though the doublecircles of final states will close to each other)\n",
    "\n",
    "And like DFA, NFA will stop and reject the innput string if it reaches a empty states (or to say all the states are dead)."
   ]
  },
  {
   "cell_type": "code",
   "execution_count": null,
   "metadata": {},
   "outputs": [],
   "source": [
    "regex_nfa.animate_reading_input(\"0101000\", preview=True)"
   ]
  },
  {
   "cell_type": "code",
   "execution_count": null,
   "metadata": {},
   "outputs": [],
   "source": [
    "regex_dfa = DFA.from_nfa(regex_nfa, retain_names=True)\n",
    "regex_dfa"
   ]
  },
  {
   "cell_type": "markdown",
   "metadata": {},
   "source": [
    "DFA with **TOO LARGE** circles may comes with bugs."
   ]
  },
  {
   "cell_type": "code",
   "execution_count": null,
   "metadata": {},
   "outputs": [],
   "source": [
    "regex_dfa.animate_reading_input(\"0101010\", True)"
   ]
  }
 ],
 "metadata": {
  "kernelspec": {
   "display_name": ".venv",
   "language": "python",
   "name": "python3"
  },
  "language_info": {
   "codemirror_mode": {
    "name": "ipython",
    "version": 3
   },
   "file_extension": ".py",
   "mimetype": "text/x-python",
   "name": "python",
   "nbconvert_exporter": "python",
   "pygments_lexer": "ipython3",
   "version": "3.12.9"
  }
 },
 "nbformat": 4,
 "nbformat_minor": 2
}
